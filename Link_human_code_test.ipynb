{
  "nbformat": 4,
  "nbformat_minor": 0,
  "metadata": {
    "colab": {
      "name": "Link_human_code_test.ipynb",
      "provenance": [],
      "collapsed_sections": []
    },
    "kernelspec": {
      "name": "python3",
      "display_name": "Python 3"
    },
    "language_info": {
      "name": "python"
    }
  },
  "cells": [
    {
      "cell_type": "code",
      "execution_count": null,
      "metadata": {
        "id": "2rkyZa8J8mno"
      },
      "outputs": [],
      "source": [
        "import pandas as pd\n",
        "import requests\n",
        "import numpy as np\n",
        "pd. set_option('display.max_rows', 500)\n",
        "pd. set_option('display.max_columns', 500)\n",
        "\n",
        "\n",
        "url = 'https://www.ambitionbox.com/api/v2/reviews/data/114?page=1&sort=recent'\n",
        "\n",
        "req = requests.get(url)"
      ]
    },
    {
      "cell_type": "code",
      "source": [
        "ebi = req.json()"
      ],
      "metadata": {
        "id": "_0OEVPsb8znD"
      },
      "execution_count": null,
      "outputs": []
    },
    {
      "cell_type": "code",
      "source": [
        "ebi"
      ],
      "metadata": {
        "id": "4nEz5u6R9G6o"
      },
      "execution_count": null,
      "outputs": []
    },
    {
      "cell_type": "code",
      "source": [
        "ebi.keys()"
      ],
      "metadata": {
        "colab": {
          "base_uri": "https://localhost:8080/"
        },
        "id": "N9eEzX9L9TbQ",
        "outputId": "890d69f4-ad1b-44c2-df9c-fa996a420a80"
      },
      "execution_count": null,
      "outputs": [
        {
          "output_type": "execute_result",
          "data": {
            "text/plain": [
              "dict_keys(['data', 'status', 'message', 'meta', 'code'])"
            ]
          },
          "metadata": {},
          "execution_count": 4
        }
      ]
    },
    {
      "cell_type": "code",
      "source": [
        "ebi['data']"
      ],
      "metadata": {
        "id": "uPeDdT7O9cwG"
      },
      "execution_count": null,
      "outputs": []
    },
    {
      "cell_type": "code",
      "source": [
        "type(ebi['data'])"
      ],
      "metadata": {
        "colab": {
          "base_uri": "https://localhost:8080/"
        },
        "id": "NswEcmJT9iWC",
        "outputId": "09e636d7-5237-4e8d-ac37-3db3717f14b3"
      },
      "execution_count": null,
      "outputs": [
        {
          "output_type": "execute_result",
          "data": {
            "text/plain": [
              "dict"
            ]
          },
          "metadata": {},
          "execution_count": 6
        }
      ]
    },
    {
      "cell_type": "code",
      "source": [
        "df = pd.DataFrame(ebi['data']['reviews'])"
      ],
      "metadata": {
        "id": "-5fdeY_j9ryg"
      },
      "execution_count": null,
      "outputs": []
    },
    {
      "cell_type": "code",
      "source": [
        "# displaying first 5 records\n",
        "\n",
        "df.head()"
      ],
      "metadata": {
        "colab": {
          "base_uri": "https://localhost:8080/",
          "height": 617
        },
        "id": "fA--ztRi91Eo",
        "outputId": "9e4c1c8d-c75d-43bf-a976-2cf95b3156d4"
      },
      "execution_count": null,
      "outputs": [
        {
          "output_type": "execute_result",
          "data": {
            "text/plain": [
              "         Id CompanyName UrlName  \\\n",
              "0  32813239      Amazon  amazon   \n",
              "1  32813255      Amazon  amazon   \n",
              "2  32812161      Amazon  amazon   \n",
              "3  32799679      Amazon  amazon   \n",
              "4  32797035      Amazon  amazon   \n",
              "\n",
              "                                           LikesText  \\\n",
              "0  If you work hard, it gets recognised and you g...   \n",
              "1                                           Good pay   \n",
              "2                    The principal and work culture    \n",
              "3                            Qualification criteria    \n",
              "4                                         Everything   \n",
              "\n",
              "                                        DisLikesText WorkDescriptionTags  \\\n",
              "0  Too much competition and it becomes overwhelmi...                None   \n",
              "1                            Peak season is tiresome                None   \n",
              "2                          No such scenario as such                 None   \n",
              "3  There is no chance to grow for candidates who ...                None   \n",
              "4                                            Nothing                None   \n",
              "\n",
              "                                 WorkDescriptionText BenefitsText  \\\n",
              "0                          Average. Could be better.                \n",
              "1                                               None         None   \n",
              "2                                                                   \n",
              "3  \\t\\t\\t\\t\\t\\t\\t\\t\\t   Fantastic \\r\\n\\t\\t\\t\\t\\t\\...                \n",
              "4                                                                   \n",
              "\n",
              "                                         JobLocation                 Division  \\\n",
              "0  {'Id': 202, 'Name': 'Bangalore', 'UrlName': 'b...                Marketing   \n",
              "1             {'Id': 0, 'Name': '', 'UrlName': None}         Customer Service   \n",
              "2  {'Id': 4, 'Name': 'Hyderabad/Secunderabad', 'U...  Supply Chain Management   \n",
              "3      {'Id': 9, 'Name': 'Pune ', 'UrlName': 'pune'}        Branch Operations   \n",
              "4  {'Id': 4, 'Name': 'Hyderabad ', 'UrlName': 'hy...          Human Resources   \n",
              "\n",
              "   OverallCompanyRating  Views WorkPolicy WorkPolicyOther  ResponseId  \\\n",
              "0                     4      0       None            None           0   \n",
              "1                     5      0        WFH            None           0   \n",
              "2                     5      0       None            None           0   \n",
              "3                     5      0       None            None           0   \n",
              "4                     5      0       None            None           0   \n",
              "\n",
              "               Created             Modified  \\\n",
              "0  2022-06-24 23:38:03  2022-06-24 23:41:09   \n",
              "1  2022-06-24 23:38:24  2022-06-24 23:40:30   \n",
              "2  2022-06-24 23:22:55  2022-06-24 23:25:28   \n",
              "3  2022-06-24 19:04:27  2022-06-24 19:10:11   \n",
              "4  2022-06-24 18:23:06  2022-06-24 18:24:31   \n",
              "\n",
              "                                    Url  HelpfulCount  NotHelpfulCount  \\\n",
              "0  /reviews/amazon-reviews?rid=32813239             0                0   \n",
              "1  /reviews/amazon-reviews?rid=32813255             0                0   \n",
              "2  /reviews/amazon-reviews?rid=32812161             0                0   \n",
              "3  /reviews/amazon-reviews?rid=32799679             0                0   \n",
              "4  /reviews/amazon-reviews?rid=32797035             0                0   \n",
              "\n",
              "         UserName                                            Picture  \\\n",
              "0       Anonymous                                                      \n",
              "1    Prabith Venu  https://lh3.googleusercontent.com/a/AATXAJzKjl...   \n",
              "2       Anonymous                                                      \n",
              "3       Anonymous                                                      \n",
              "4  Sammeta Sindhu  https://lh3.googleusercontent.com/a-/AOh14Gg64...   \n",
              "\n",
              "    StartDate     EndDate        CurrentJob   UserId  \\\n",
              "0        None        None              None        0   \n",
              "1  2019-08-01        None  Current Employee  8450055   \n",
              "2        None        None              None        0   \n",
              "3        None        None              None        0   \n",
              "4  2021-02-01  2021-10-01   Former Employee  2567263   \n",
              "\n",
              "                                  RatingDistribution ModifiedHumanReadable  \\\n",
              "0  [{'Name': 'Work-Life Balance', 'count': 3}, {'...           24 Jun 2022   \n",
              "1  [{'Name': 'Work-Life Balance', 'count': 5}, {'...           24 Jun 2022   \n",
              "2  [{'Name': 'Work-Life Balance', 'count': 5}, {'...           24 Jun 2022   \n",
              "3  [{'Name': 'Work-Life Balance', 'count': 5}, {'...           24 Jun 2022   \n",
              "4  [{'Name': 'Work-Life Balance', 'count': 5}, {'...           24 Jun 2022   \n",
              "\n",
              "  ModifiedMachineReadable                                         WorkLabels  \\\n",
              "0              2022-06-24  {'TravelTags': ['No Travel'], 'WorkTimeMonitor...   \n",
              "1              2022-06-24  {'TravelTags': ['No Travel'], 'WorkTimeMonitor...   \n",
              "2              2022-06-24  {'TravelTags': ['No Travel'], 'WorkTimeMonitor...   \n",
              "3              2022-06-24  {'TravelTags': ['No Travel'], 'WorkTimeMonitor...   \n",
              "4              2022-06-24          {'WorkTimeMonitor': ['Flexible Timings']}   \n",
              "\n",
              "                                          JobProfile Facilities  \\\n",
              "0  {'Id': 185, 'Name': 'Program Manager', 'UrlNam...         []   \n",
              "1  {'Id': 267, 'Name': 'Customer Service Associat...         []   \n",
              "2  {'Id': 0, 'Name': 'ML Data Associate-ll', 'Url...         []   \n",
              "3  {'Id': 1539, 'Name': 'Supervisor', 'UrlName': ...         []   \n",
              "4  {'Id': 0, 'Name': 'Hr Associate 1 Contract Rol...         []   \n",
              "\n",
              "  ReviewerExperience EmployerResponse  \\\n",
              "0                                       \n",
              "1          2.8 years                    \n",
              "2                                       \n",
              "3                                       \n",
              "4           7 months                    \n",
              "\n",
              "                                                   k  Verified ParentTag  \n",
              "0  t7LWHAdIsqUyZFSrU%2FcggaRaf3pHrcUaxEmkb7OgaoWn...         1       NaN  \n",
              "1  pEwSYdH9LLue4OoIq7UORohGvzaBL%2B87JEDEjRhOI6m9...         0       NaN  \n",
              "2  16sksSJCgOtvL7vtU9V8G8EEXaoJdTWRaE5phUOJUT7N81...         1       NaN  \n",
              "3  2K%2B26Pt30LxUzgjw56ZYIMyc%2BgdeGcR%2FEfFYk3Eh...         1       NaN  \n",
              "4  c5kfSPQ7wxQHLaiwGvYnoUHPCgAou97SzfRFiHOZCRoH%2...         1       NaN  "
            ],
            "text/html": [
              "\n",
              "  <div id=\"df-5e257c72-5f19-43e2-975f-6d2b2c8eb7e7\">\n",
              "    <div class=\"colab-df-container\">\n",
              "      <div>\n",
              "<style scoped>\n",
              "    .dataframe tbody tr th:only-of-type {\n",
              "        vertical-align: middle;\n",
              "    }\n",
              "\n",
              "    .dataframe tbody tr th {\n",
              "        vertical-align: top;\n",
              "    }\n",
              "\n",
              "    .dataframe thead th {\n",
              "        text-align: right;\n",
              "    }\n",
              "</style>\n",
              "<table border=\"1\" class=\"dataframe\">\n",
              "  <thead>\n",
              "    <tr style=\"text-align: right;\">\n",
              "      <th></th>\n",
              "      <th>Id</th>\n",
              "      <th>CompanyName</th>\n",
              "      <th>UrlName</th>\n",
              "      <th>LikesText</th>\n",
              "      <th>DisLikesText</th>\n",
              "      <th>WorkDescriptionTags</th>\n",
              "      <th>WorkDescriptionText</th>\n",
              "      <th>BenefitsText</th>\n",
              "      <th>JobLocation</th>\n",
              "      <th>Division</th>\n",
              "      <th>OverallCompanyRating</th>\n",
              "      <th>Views</th>\n",
              "      <th>WorkPolicy</th>\n",
              "      <th>WorkPolicyOther</th>\n",
              "      <th>ResponseId</th>\n",
              "      <th>Created</th>\n",
              "      <th>Modified</th>\n",
              "      <th>Url</th>\n",
              "      <th>HelpfulCount</th>\n",
              "      <th>NotHelpfulCount</th>\n",
              "      <th>UserName</th>\n",
              "      <th>Picture</th>\n",
              "      <th>StartDate</th>\n",
              "      <th>EndDate</th>\n",
              "      <th>CurrentJob</th>\n",
              "      <th>UserId</th>\n",
              "      <th>RatingDistribution</th>\n",
              "      <th>ModifiedHumanReadable</th>\n",
              "      <th>ModifiedMachineReadable</th>\n",
              "      <th>WorkLabels</th>\n",
              "      <th>JobProfile</th>\n",
              "      <th>Facilities</th>\n",
              "      <th>ReviewerExperience</th>\n",
              "      <th>EmployerResponse</th>\n",
              "      <th>k</th>\n",
              "      <th>Verified</th>\n",
              "      <th>ParentTag</th>\n",
              "    </tr>\n",
              "  </thead>\n",
              "  <tbody>\n",
              "    <tr>\n",
              "      <th>0</th>\n",
              "      <td>32813239</td>\n",
              "      <td>Amazon</td>\n",
              "      <td>amazon</td>\n",
              "      <td>If you work hard, it gets recognised and you g...</td>\n",
              "      <td>Too much competition and it becomes overwhelmi...</td>\n",
              "      <td>None</td>\n",
              "      <td>Average. Could be better.</td>\n",
              "      <td></td>\n",
              "      <td>{'Id': 202, 'Name': 'Bangalore', 'UrlName': 'b...</td>\n",
              "      <td>Marketing</td>\n",
              "      <td>4</td>\n",
              "      <td>0</td>\n",
              "      <td>None</td>\n",
              "      <td>None</td>\n",
              "      <td>0</td>\n",
              "      <td>2022-06-24 23:38:03</td>\n",
              "      <td>2022-06-24 23:41:09</td>\n",
              "      <td>/reviews/amazon-reviews?rid=32813239</td>\n",
              "      <td>0</td>\n",
              "      <td>0</td>\n",
              "      <td>Anonymous</td>\n",
              "      <td></td>\n",
              "      <td>None</td>\n",
              "      <td>None</td>\n",
              "      <td>None</td>\n",
              "      <td>0</td>\n",
              "      <td>[{'Name': 'Work-Life Balance', 'count': 3}, {'...</td>\n",
              "      <td>24 Jun 2022</td>\n",
              "      <td>2022-06-24</td>\n",
              "      <td>{'TravelTags': ['No Travel'], 'WorkTimeMonitor...</td>\n",
              "      <td>{'Id': 185, 'Name': 'Program Manager', 'UrlNam...</td>\n",
              "      <td>[]</td>\n",
              "      <td></td>\n",
              "      <td></td>\n",
              "      <td>t7LWHAdIsqUyZFSrU%2FcggaRaf3pHrcUaxEmkb7OgaoWn...</td>\n",
              "      <td>1</td>\n",
              "      <td>NaN</td>\n",
              "    </tr>\n",
              "    <tr>\n",
              "      <th>1</th>\n",
              "      <td>32813255</td>\n",
              "      <td>Amazon</td>\n",
              "      <td>amazon</td>\n",
              "      <td>Good pay</td>\n",
              "      <td>Peak season is tiresome</td>\n",
              "      <td>None</td>\n",
              "      <td>None</td>\n",
              "      <td>None</td>\n",
              "      <td>{'Id': 0, 'Name': '', 'UrlName': None}</td>\n",
              "      <td>Customer Service</td>\n",
              "      <td>5</td>\n",
              "      <td>0</td>\n",
              "      <td>WFH</td>\n",
              "      <td>None</td>\n",
              "      <td>0</td>\n",
              "      <td>2022-06-24 23:38:24</td>\n",
              "      <td>2022-06-24 23:40:30</td>\n",
              "      <td>/reviews/amazon-reviews?rid=32813255</td>\n",
              "      <td>0</td>\n",
              "      <td>0</td>\n",
              "      <td>Prabith Venu</td>\n",
              "      <td>https://lh3.googleusercontent.com/a/AATXAJzKjl...</td>\n",
              "      <td>2019-08-01</td>\n",
              "      <td>None</td>\n",
              "      <td>Current Employee</td>\n",
              "      <td>8450055</td>\n",
              "      <td>[{'Name': 'Work-Life Balance', 'count': 5}, {'...</td>\n",
              "      <td>24 Jun 2022</td>\n",
              "      <td>2022-06-24</td>\n",
              "      <td>{'TravelTags': ['No Travel'], 'WorkTimeMonitor...</td>\n",
              "      <td>{'Id': 267, 'Name': 'Customer Service Associat...</td>\n",
              "      <td>[]</td>\n",
              "      <td>2.8 years</td>\n",
              "      <td></td>\n",
              "      <td>pEwSYdH9LLue4OoIq7UORohGvzaBL%2B87JEDEjRhOI6m9...</td>\n",
              "      <td>0</td>\n",
              "      <td>NaN</td>\n",
              "    </tr>\n",
              "    <tr>\n",
              "      <th>2</th>\n",
              "      <td>32812161</td>\n",
              "      <td>Amazon</td>\n",
              "      <td>amazon</td>\n",
              "      <td>The principal and work culture</td>\n",
              "      <td>No such scenario as such</td>\n",
              "      <td>None</td>\n",
              "      <td></td>\n",
              "      <td></td>\n",
              "      <td>{'Id': 4, 'Name': 'Hyderabad/Secunderabad', 'U...</td>\n",
              "      <td>Supply Chain Management</td>\n",
              "      <td>5</td>\n",
              "      <td>0</td>\n",
              "      <td>None</td>\n",
              "      <td>None</td>\n",
              "      <td>0</td>\n",
              "      <td>2022-06-24 23:22:55</td>\n",
              "      <td>2022-06-24 23:25:28</td>\n",
              "      <td>/reviews/amazon-reviews?rid=32812161</td>\n",
              "      <td>0</td>\n",
              "      <td>0</td>\n",
              "      <td>Anonymous</td>\n",
              "      <td></td>\n",
              "      <td>None</td>\n",
              "      <td>None</td>\n",
              "      <td>None</td>\n",
              "      <td>0</td>\n",
              "      <td>[{'Name': 'Work-Life Balance', 'count': 5}, {'...</td>\n",
              "      <td>24 Jun 2022</td>\n",
              "      <td>2022-06-24</td>\n",
              "      <td>{'TravelTags': ['No Travel'], 'WorkTimeMonitor...</td>\n",
              "      <td>{'Id': 0, 'Name': 'ML Data Associate-ll', 'Url...</td>\n",
              "      <td>[]</td>\n",
              "      <td></td>\n",
              "      <td></td>\n",
              "      <td>16sksSJCgOtvL7vtU9V8G8EEXaoJdTWRaE5phUOJUT7N81...</td>\n",
              "      <td>1</td>\n",
              "      <td>NaN</td>\n",
              "    </tr>\n",
              "    <tr>\n",
              "      <th>3</th>\n",
              "      <td>32799679</td>\n",
              "      <td>Amazon</td>\n",
              "      <td>amazon</td>\n",
              "      <td>Qualification criteria</td>\n",
              "      <td>There is no chance to grow for candidates who ...</td>\n",
              "      <td>None</td>\n",
              "      <td>\\t\\t\\t\\t\\t\\t\\t\\t\\t   Fantastic \\r\\n\\t\\t\\t\\t\\t\\...</td>\n",
              "      <td></td>\n",
              "      <td>{'Id': 9, 'Name': 'Pune ', 'UrlName': 'pune'}</td>\n",
              "      <td>Branch Operations</td>\n",
              "      <td>5</td>\n",
              "      <td>0</td>\n",
              "      <td>None</td>\n",
              "      <td>None</td>\n",
              "      <td>0</td>\n",
              "      <td>2022-06-24 19:04:27</td>\n",
              "      <td>2022-06-24 19:10:11</td>\n",
              "      <td>/reviews/amazon-reviews?rid=32799679</td>\n",
              "      <td>0</td>\n",
              "      <td>0</td>\n",
              "      <td>Anonymous</td>\n",
              "      <td></td>\n",
              "      <td>None</td>\n",
              "      <td>None</td>\n",
              "      <td>None</td>\n",
              "      <td>0</td>\n",
              "      <td>[{'Name': 'Work-Life Balance', 'count': 5}, {'...</td>\n",
              "      <td>24 Jun 2022</td>\n",
              "      <td>2022-06-24</td>\n",
              "      <td>{'TravelTags': ['No Travel'], 'WorkTimeMonitor...</td>\n",
              "      <td>{'Id': 1539, 'Name': 'Supervisor', 'UrlName': ...</td>\n",
              "      <td>[]</td>\n",
              "      <td></td>\n",
              "      <td></td>\n",
              "      <td>2K%2B26Pt30LxUzgjw56ZYIMyc%2BgdeGcR%2FEfFYk3Eh...</td>\n",
              "      <td>1</td>\n",
              "      <td>NaN</td>\n",
              "    </tr>\n",
              "    <tr>\n",
              "      <th>4</th>\n",
              "      <td>32797035</td>\n",
              "      <td>Amazon</td>\n",
              "      <td>amazon</td>\n",
              "      <td>Everything</td>\n",
              "      <td>Nothing</td>\n",
              "      <td>None</td>\n",
              "      <td></td>\n",
              "      <td></td>\n",
              "      <td>{'Id': 4, 'Name': 'Hyderabad ', 'UrlName': 'hy...</td>\n",
              "      <td>Human Resources</td>\n",
              "      <td>5</td>\n",
              "      <td>0</td>\n",
              "      <td>None</td>\n",
              "      <td>None</td>\n",
              "      <td>0</td>\n",
              "      <td>2022-06-24 18:23:06</td>\n",
              "      <td>2022-06-24 18:24:31</td>\n",
              "      <td>/reviews/amazon-reviews?rid=32797035</td>\n",
              "      <td>0</td>\n",
              "      <td>0</td>\n",
              "      <td>Sammeta Sindhu</td>\n",
              "      <td>https://lh3.googleusercontent.com/a-/AOh14Gg64...</td>\n",
              "      <td>2021-02-01</td>\n",
              "      <td>2021-10-01</td>\n",
              "      <td>Former Employee</td>\n",
              "      <td>2567263</td>\n",
              "      <td>[{'Name': 'Work-Life Balance', 'count': 5}, {'...</td>\n",
              "      <td>24 Jun 2022</td>\n",
              "      <td>2022-06-24</td>\n",
              "      <td>{'WorkTimeMonitor': ['Flexible Timings']}</td>\n",
              "      <td>{'Id': 0, 'Name': 'Hr Associate 1 Contract Rol...</td>\n",
              "      <td>[]</td>\n",
              "      <td>7 months</td>\n",
              "      <td></td>\n",
              "      <td>c5kfSPQ7wxQHLaiwGvYnoUHPCgAou97SzfRFiHOZCRoH%2...</td>\n",
              "      <td>1</td>\n",
              "      <td>NaN</td>\n",
              "    </tr>\n",
              "  </tbody>\n",
              "</table>\n",
              "</div>\n",
              "      <button class=\"colab-df-convert\" onclick=\"convertToInteractive('df-5e257c72-5f19-43e2-975f-6d2b2c8eb7e7')\"\n",
              "              title=\"Convert this dataframe to an interactive table.\"\n",
              "              style=\"display:none;\">\n",
              "        \n",
              "  <svg xmlns=\"http://www.w3.org/2000/svg\" height=\"24px\"viewBox=\"0 0 24 24\"\n",
              "       width=\"24px\">\n",
              "    <path d=\"M0 0h24v24H0V0z\" fill=\"none\"/>\n",
              "    <path d=\"M18.56 5.44l.94 2.06.94-2.06 2.06-.94-2.06-.94-.94-2.06-.94 2.06-2.06.94zm-11 1L8.5 8.5l.94-2.06 2.06-.94-2.06-.94L8.5 2.5l-.94 2.06-2.06.94zm10 10l.94 2.06.94-2.06 2.06-.94-2.06-.94-.94-2.06-.94 2.06-2.06.94z\"/><path d=\"M17.41 7.96l-1.37-1.37c-.4-.4-.92-.59-1.43-.59-.52 0-1.04.2-1.43.59L10.3 9.45l-7.72 7.72c-.78.78-.78 2.05 0 2.83L4 21.41c.39.39.9.59 1.41.59.51 0 1.02-.2 1.41-.59l7.78-7.78 2.81-2.81c.8-.78.8-2.07 0-2.86zM5.41 20L4 18.59l7.72-7.72 1.47 1.35L5.41 20z\"/>\n",
              "  </svg>\n",
              "      </button>\n",
              "      \n",
              "  <style>\n",
              "    .colab-df-container {\n",
              "      display:flex;\n",
              "      flex-wrap:wrap;\n",
              "      gap: 12px;\n",
              "    }\n",
              "\n",
              "    .colab-df-convert {\n",
              "      background-color: #E8F0FE;\n",
              "      border: none;\n",
              "      border-radius: 50%;\n",
              "      cursor: pointer;\n",
              "      display: none;\n",
              "      fill: #1967D2;\n",
              "      height: 32px;\n",
              "      padding: 0 0 0 0;\n",
              "      width: 32px;\n",
              "    }\n",
              "\n",
              "    .colab-df-convert:hover {\n",
              "      background-color: #E2EBFA;\n",
              "      box-shadow: 0px 1px 2px rgba(60, 64, 67, 0.3), 0px 1px 3px 1px rgba(60, 64, 67, 0.15);\n",
              "      fill: #174EA6;\n",
              "    }\n",
              "\n",
              "    [theme=dark] .colab-df-convert {\n",
              "      background-color: #3B4455;\n",
              "      fill: #D2E3FC;\n",
              "    }\n",
              "\n",
              "    [theme=dark] .colab-df-convert:hover {\n",
              "      background-color: #434B5C;\n",
              "      box-shadow: 0px 1px 3px 1px rgba(0, 0, 0, 0.15);\n",
              "      filter: drop-shadow(0px 1px 2px rgba(0, 0, 0, 0.3));\n",
              "      fill: #FFFFFF;\n",
              "    }\n",
              "  </style>\n",
              "\n",
              "      <script>\n",
              "        const buttonEl =\n",
              "          document.querySelector('#df-5e257c72-5f19-43e2-975f-6d2b2c8eb7e7 button.colab-df-convert');\n",
              "        buttonEl.style.display =\n",
              "          google.colab.kernel.accessAllowed ? 'block' : 'none';\n",
              "\n",
              "        async function convertToInteractive(key) {\n",
              "          const element = document.querySelector('#df-5e257c72-5f19-43e2-975f-6d2b2c8eb7e7');\n",
              "          const dataTable =\n",
              "            await google.colab.kernel.invokeFunction('convertToInteractive',\n",
              "                                                     [key], {});\n",
              "          if (!dataTable) return;\n",
              "\n",
              "          const docLinkHtml = 'Like what you see? Visit the ' +\n",
              "            '<a target=\"_blank\" href=https://colab.research.google.com/notebooks/data_table.ipynb>data table notebook</a>'\n",
              "            + ' to learn more about interactive tables.';\n",
              "          element.innerHTML = '';\n",
              "          dataTable['output_type'] = 'display_data';\n",
              "          await google.colab.output.renderOutput(dataTable, element);\n",
              "          const docLink = document.createElement('div');\n",
              "          docLink.innerHTML = docLinkHtml;\n",
              "          element.appendChild(docLink);\n",
              "        }\n",
              "      </script>\n",
              "    </div>\n",
              "  </div>\n",
              "  "
            ]
          },
          "metadata": {},
          "execution_count": 8
        }
      ]
    },
    {
      "cell_type": "code",
      "source": [
        "df.columns"
      ],
      "metadata": {
        "colab": {
          "base_uri": "https://localhost:8080/"
        },
        "id": "otsWvpFp94mc",
        "outputId": "3265ce04-7cdd-4860-d097-eae7cdd3a88f"
      },
      "execution_count": null,
      "outputs": [
        {
          "output_type": "execute_result",
          "data": {
            "text/plain": [
              "Index(['Id', 'CompanyName', 'UrlName', 'LikesText', 'DisLikesText',\n",
              "       'WorkDescriptionTags', 'WorkDescriptionText', 'BenefitsText',\n",
              "       'JobLocation', 'Division', 'OverallCompanyRating', 'Views',\n",
              "       'WorkPolicy', 'WorkPolicyOther', 'ResponseId', 'Created', 'Modified',\n",
              "       'Url', 'HelpfulCount', 'NotHelpfulCount', 'UserName', 'Picture',\n",
              "       'StartDate', 'EndDate', 'CurrentJob', 'UserId', 'RatingDistribution',\n",
              "       'ModifiedHumanReadable', 'ModifiedMachineReadable', 'WorkLabels',\n",
              "       'JobProfile', 'Facilities', 'ReviewerExperience', 'EmployerResponse',\n",
              "       'k', 'Verified', 'ParentTag'],\n",
              "      dtype='object')"
            ]
          },
          "metadata": {},
          "execution_count": 9
        }
      ]
    },
    {
      "cell_type": "code",
      "source": [
        "df.shape"
      ],
      "metadata": {
        "id": "Dz4N07eE99no",
        "colab": {
          "base_uri": "https://localhost:8080/"
        },
        "outputId": "5f774c3d-2655-4a6b-b9e1-e8cbc86e3d10"
      },
      "execution_count": null,
      "outputs": [
        {
          "output_type": "execute_result",
          "data": {
            "text/plain": [
              "(10, 37)"
            ]
          },
          "metadata": {},
          "execution_count": 10
        }
      ]
    },
    {
      "cell_type": "code",
      "source": [
        "df.info()"
      ],
      "metadata": {
        "id": "Wk-C1rR--Ywt",
        "colab": {
          "base_uri": "https://localhost:8080/"
        },
        "outputId": "f9e9e82d-3210-430a-affc-4be0661a8566"
      },
      "execution_count": null,
      "outputs": [
        {
          "output_type": "stream",
          "name": "stdout",
          "text": [
            "<class 'pandas.core.frame.DataFrame'>\n",
            "RangeIndex: 10 entries, 0 to 9\n",
            "Data columns (total 37 columns):\n",
            " #   Column                   Non-Null Count  Dtype \n",
            "---  ------                   --------------  ----- \n",
            " 0   Id                       10 non-null     int64 \n",
            " 1   CompanyName              10 non-null     object\n",
            " 2   UrlName                  10 non-null     object\n",
            " 3   LikesText                10 non-null     object\n",
            " 4   DisLikesText             10 non-null     object\n",
            " 5   WorkDescriptionTags      0 non-null      object\n",
            " 6   WorkDescriptionText      7 non-null      object\n",
            " 7   BenefitsText             7 non-null      object\n",
            " 8   JobLocation              10 non-null     object\n",
            " 9   Division                 10 non-null     object\n",
            " 10  OverallCompanyRating     10 non-null     int64 \n",
            " 11  Views                    10 non-null     int64 \n",
            " 12  WorkPolicy               3 non-null      object\n",
            " 13  WorkPolicyOther          2 non-null      object\n",
            " 14  ResponseId               10 non-null     int64 \n",
            " 15  Created                  10 non-null     object\n",
            " 16  Modified                 10 non-null     object\n",
            " 17  Url                      10 non-null     object\n",
            " 18  HelpfulCount             10 non-null     int64 \n",
            " 19  NotHelpfulCount          10 non-null     int64 \n",
            " 20  UserName                 10 non-null     object\n",
            " 21  Picture                  10 non-null     object\n",
            " 22  StartDate                4 non-null      object\n",
            " 23  EndDate                  2 non-null      object\n",
            " 24  CurrentJob               5 non-null      object\n",
            " 25  UserId                   10 non-null     int64 \n",
            " 26  RatingDistribution       10 non-null     object\n",
            " 27  ModifiedHumanReadable    10 non-null     object\n",
            " 28  ModifiedMachineReadable  10 non-null     object\n",
            " 29  WorkLabels               10 non-null     object\n",
            " 30  JobProfile               10 non-null     object\n",
            " 31  Facilities               10 non-null     object\n",
            " 32  ReviewerExperience       10 non-null     object\n",
            " 33  EmployerResponse         10 non-null     object\n",
            " 34  k                        10 non-null     object\n",
            " 35  Verified                 10 non-null     int64 \n",
            " 36  ParentTag                1 non-null      object\n",
            "dtypes: int64(8), object(29)\n",
            "memory usage: 3.0+ KB\n"
          ]
        }
      ]
    },
    {
      "cell_type": "code",
      "source": [
        "# as suggested considering only LikesText,DisLikesText,Created features\n",
        "\n",
        "df2 = df[['LikesText', 'DisLikesText','Created']]"
      ],
      "metadata": {
        "id": "l9sxO1tH-oSp"
      },
      "execution_count": null,
      "outputs": []
    },
    {
      "cell_type": "code",
      "source": [
        "df2.head()"
      ],
      "metadata": {
        "id": "2RGF0EDf-oWr",
        "colab": {
          "base_uri": "https://localhost:8080/",
          "height": 206
        },
        "outputId": "155f1107-82aa-495c-d834-16ad997fe8e4"
      },
      "execution_count": null,
      "outputs": [
        {
          "output_type": "execute_result",
          "data": {
            "text/plain": [
              "                                           LikesText  \\\n",
              "0  If you work hard, it gets recognised and you g...   \n",
              "1                                           Good pay   \n",
              "2                    The principal and work culture    \n",
              "3                            Qualification criteria    \n",
              "4                                         Everything   \n",
              "\n",
              "                                        DisLikesText              Created  \n",
              "0  Too much competition and it becomes overwhelmi...  2022-06-24 23:38:03  \n",
              "1                            Peak season is tiresome  2022-06-24 23:38:24  \n",
              "2                          No such scenario as such   2022-06-24 23:22:55  \n",
              "3  There is no chance to grow for candidates who ...  2022-06-24 19:04:27  \n",
              "4                                            Nothing  2022-06-24 18:23:06  "
            ],
            "text/html": [
              "\n",
              "  <div id=\"df-b272e9ae-d05d-4e77-99fb-4b6b1fa4e5a8\">\n",
              "    <div class=\"colab-df-container\">\n",
              "      <div>\n",
              "<style scoped>\n",
              "    .dataframe tbody tr th:only-of-type {\n",
              "        vertical-align: middle;\n",
              "    }\n",
              "\n",
              "    .dataframe tbody tr th {\n",
              "        vertical-align: top;\n",
              "    }\n",
              "\n",
              "    .dataframe thead th {\n",
              "        text-align: right;\n",
              "    }\n",
              "</style>\n",
              "<table border=\"1\" class=\"dataframe\">\n",
              "  <thead>\n",
              "    <tr style=\"text-align: right;\">\n",
              "      <th></th>\n",
              "      <th>LikesText</th>\n",
              "      <th>DisLikesText</th>\n",
              "      <th>Created</th>\n",
              "    </tr>\n",
              "  </thead>\n",
              "  <tbody>\n",
              "    <tr>\n",
              "      <th>0</th>\n",
              "      <td>If you work hard, it gets recognised and you g...</td>\n",
              "      <td>Too much competition and it becomes overwhelmi...</td>\n",
              "      <td>2022-06-24 23:38:03</td>\n",
              "    </tr>\n",
              "    <tr>\n",
              "      <th>1</th>\n",
              "      <td>Good pay</td>\n",
              "      <td>Peak season is tiresome</td>\n",
              "      <td>2022-06-24 23:38:24</td>\n",
              "    </tr>\n",
              "    <tr>\n",
              "      <th>2</th>\n",
              "      <td>The principal and work culture</td>\n",
              "      <td>No such scenario as such</td>\n",
              "      <td>2022-06-24 23:22:55</td>\n",
              "    </tr>\n",
              "    <tr>\n",
              "      <th>3</th>\n",
              "      <td>Qualification criteria</td>\n",
              "      <td>There is no chance to grow for candidates who ...</td>\n",
              "      <td>2022-06-24 19:04:27</td>\n",
              "    </tr>\n",
              "    <tr>\n",
              "      <th>4</th>\n",
              "      <td>Everything</td>\n",
              "      <td>Nothing</td>\n",
              "      <td>2022-06-24 18:23:06</td>\n",
              "    </tr>\n",
              "  </tbody>\n",
              "</table>\n",
              "</div>\n",
              "      <button class=\"colab-df-convert\" onclick=\"convertToInteractive('df-b272e9ae-d05d-4e77-99fb-4b6b1fa4e5a8')\"\n",
              "              title=\"Convert this dataframe to an interactive table.\"\n",
              "              style=\"display:none;\">\n",
              "        \n",
              "  <svg xmlns=\"http://www.w3.org/2000/svg\" height=\"24px\"viewBox=\"0 0 24 24\"\n",
              "       width=\"24px\">\n",
              "    <path d=\"M0 0h24v24H0V0z\" fill=\"none\"/>\n",
              "    <path d=\"M18.56 5.44l.94 2.06.94-2.06 2.06-.94-2.06-.94-.94-2.06-.94 2.06-2.06.94zm-11 1L8.5 8.5l.94-2.06 2.06-.94-2.06-.94L8.5 2.5l-.94 2.06-2.06.94zm10 10l.94 2.06.94-2.06 2.06-.94-2.06-.94-.94-2.06-.94 2.06-2.06.94z\"/><path d=\"M17.41 7.96l-1.37-1.37c-.4-.4-.92-.59-1.43-.59-.52 0-1.04.2-1.43.59L10.3 9.45l-7.72 7.72c-.78.78-.78 2.05 0 2.83L4 21.41c.39.39.9.59 1.41.59.51 0 1.02-.2 1.41-.59l7.78-7.78 2.81-2.81c.8-.78.8-2.07 0-2.86zM5.41 20L4 18.59l7.72-7.72 1.47 1.35L5.41 20z\"/>\n",
              "  </svg>\n",
              "      </button>\n",
              "      \n",
              "  <style>\n",
              "    .colab-df-container {\n",
              "      display:flex;\n",
              "      flex-wrap:wrap;\n",
              "      gap: 12px;\n",
              "    }\n",
              "\n",
              "    .colab-df-convert {\n",
              "      background-color: #E8F0FE;\n",
              "      border: none;\n",
              "      border-radius: 50%;\n",
              "      cursor: pointer;\n",
              "      display: none;\n",
              "      fill: #1967D2;\n",
              "      height: 32px;\n",
              "      padding: 0 0 0 0;\n",
              "      width: 32px;\n",
              "    }\n",
              "\n",
              "    .colab-df-convert:hover {\n",
              "      background-color: #E2EBFA;\n",
              "      box-shadow: 0px 1px 2px rgba(60, 64, 67, 0.3), 0px 1px 3px 1px rgba(60, 64, 67, 0.15);\n",
              "      fill: #174EA6;\n",
              "    }\n",
              "\n",
              "    [theme=dark] .colab-df-convert {\n",
              "      background-color: #3B4455;\n",
              "      fill: #D2E3FC;\n",
              "    }\n",
              "\n",
              "    [theme=dark] .colab-df-convert:hover {\n",
              "      background-color: #434B5C;\n",
              "      box-shadow: 0px 1px 3px 1px rgba(0, 0, 0, 0.15);\n",
              "      filter: drop-shadow(0px 1px 2px rgba(0, 0, 0, 0.3));\n",
              "      fill: #FFFFFF;\n",
              "    }\n",
              "  </style>\n",
              "\n",
              "      <script>\n",
              "        const buttonEl =\n",
              "          document.querySelector('#df-b272e9ae-d05d-4e77-99fb-4b6b1fa4e5a8 button.colab-df-convert');\n",
              "        buttonEl.style.display =\n",
              "          google.colab.kernel.accessAllowed ? 'block' : 'none';\n",
              "\n",
              "        async function convertToInteractive(key) {\n",
              "          const element = document.querySelector('#df-b272e9ae-d05d-4e77-99fb-4b6b1fa4e5a8');\n",
              "          const dataTable =\n",
              "            await google.colab.kernel.invokeFunction('convertToInteractive',\n",
              "                                                     [key], {});\n",
              "          if (!dataTable) return;\n",
              "\n",
              "          const docLinkHtml = 'Like what you see? Visit the ' +\n",
              "            '<a target=\"_blank\" href=https://colab.research.google.com/notebooks/data_table.ipynb>data table notebook</a>'\n",
              "            + ' to learn more about interactive tables.';\n",
              "          element.innerHTML = '';\n",
              "          dataTable['output_type'] = 'display_data';\n",
              "          await google.colab.output.renderOutput(dataTable, element);\n",
              "          const docLink = document.createElement('div');\n",
              "          docLink.innerHTML = docLinkHtml;\n",
              "          element.appendChild(docLink);\n",
              "        }\n",
              "      </script>\n",
              "    </div>\n",
              "  </div>\n",
              "  "
            ]
          },
          "metadata": {},
          "execution_count": 13
        }
      ]
    },
    {
      "cell_type": "code",
      "source": [
        "# converting object data type to datetime\n",
        "\n",
        "df2['Created'] =  pd.to_datetime(df2['Created'])\n"
      ],
      "metadata": {
        "id": "YjTsE8OX-ofC",
        "colab": {
          "base_uri": "https://localhost:8080/"
        },
        "outputId": "eeabf096-a0c0-4ae8-e35f-99a4ed0164e8"
      },
      "execution_count": null,
      "outputs": [
        {
          "output_type": "stream",
          "name": "stderr",
          "text": [
            "/usr/local/lib/python3.7/dist-packages/ipykernel_launcher.py:3: SettingWithCopyWarning: \n",
            "A value is trying to be set on a copy of a slice from a DataFrame.\n",
            "Try using .loc[row_indexer,col_indexer] = value instead\n",
            "\n",
            "See the caveats in the documentation: https://pandas.pydata.org/pandas-docs/stable/user_guide/indexing.html#returning-a-view-versus-a-copy\n",
            "  This is separate from the ipykernel package so we can avoid doing imports until\n"
          ]
        }
      ]
    },
    {
      "cell_type": "code",
      "source": [
        "# cross verifing\n",
        "\n",
        "df2.info()"
      ],
      "metadata": {
        "id": "NoYEDfRQ-obC",
        "colab": {
          "base_uri": "https://localhost:8080/"
        },
        "outputId": "503697cb-8c99-4838-c203-00b7af734465"
      },
      "execution_count": null,
      "outputs": [
        {
          "output_type": "stream",
          "name": "stdout",
          "text": [
            "<class 'pandas.core.frame.DataFrame'>\n",
            "RangeIndex: 10 entries, 0 to 9\n",
            "Data columns (total 3 columns):\n",
            " #   Column        Non-Null Count  Dtype         \n",
            "---  ------        --------------  -----         \n",
            " 0   LikesText     10 non-null     object        \n",
            " 1   DisLikesText  10 non-null     object        \n",
            " 2   Created       10 non-null     datetime64[ns]\n",
            "dtypes: datetime64[ns](1), object(2)\n",
            "memory usage: 368.0+ bytes\n"
          ]
        }
      ]
    },
    {
      "cell_type": "code",
      "source": [
        "# creating year and month from Created feature\n",
        "\n",
        "df2['year'] = df2['Created'].dt.year\n",
        "df2['month'] = df2['Created'].dt.month"
      ],
      "metadata": {
        "id": "UND-9ly2-ohW",
        "colab": {
          "base_uri": "https://localhost:8080/"
        },
        "outputId": "b37cb273-c914-4247-8591-07814f0dcede"
      },
      "execution_count": null,
      "outputs": [
        {
          "output_type": "stream",
          "name": "stderr",
          "text": [
            "/usr/local/lib/python3.7/dist-packages/ipykernel_launcher.py:3: SettingWithCopyWarning: \n",
            "A value is trying to be set on a copy of a slice from a DataFrame.\n",
            "Try using .loc[row_indexer,col_indexer] = value instead\n",
            "\n",
            "See the caveats in the documentation: https://pandas.pydata.org/pandas-docs/stable/user_guide/indexing.html#returning-a-view-versus-a-copy\n",
            "  This is separate from the ipykernel package so we can avoid doing imports until\n",
            "/usr/local/lib/python3.7/dist-packages/ipykernel_launcher.py:4: SettingWithCopyWarning: \n",
            "A value is trying to be set on a copy of a slice from a DataFrame.\n",
            "Try using .loc[row_indexer,col_indexer] = value instead\n",
            "\n",
            "See the caveats in the documentation: https://pandas.pydata.org/pandas-docs/stable/user_guide/indexing.html#returning-a-view-versus-a-copy\n",
            "  after removing the cwd from sys.path.\n"
          ]
        }
      ]
    },
    {
      "cell_type": "code",
      "source": [
        "df2['Month_Name'] = df2.Created.dt.month_name()"
      ],
      "metadata": {
        "colab": {
          "base_uri": "https://localhost:8080/"
        },
        "id": "QOutJsvfCsbt",
        "outputId": "487a8ea5-174d-4dba-843c-6e13a0ba28b9"
      },
      "execution_count": null,
      "outputs": [
        {
          "output_type": "stream",
          "name": "stderr",
          "text": [
            "/usr/local/lib/python3.7/dist-packages/ipykernel_launcher.py:1: SettingWithCopyWarning: \n",
            "A value is trying to be set on a copy of a slice from a DataFrame.\n",
            "Try using .loc[row_indexer,col_indexer] = value instead\n",
            "\n",
            "See the caveats in the documentation: https://pandas.pydata.org/pandas-docs/stable/user_guide/indexing.html#returning-a-view-versus-a-copy\n",
            "  \"\"\"Entry point for launching an IPython kernel.\n"
          ]
        }
      ]
    },
    {
      "cell_type": "code",
      "source": [
        "df2.head(10)"
      ],
      "metadata": {
        "colab": {
          "base_uri": "https://localhost:8080/",
          "height": 363
        },
        "id": "xkmpuJX0CClt",
        "outputId": "cd814a61-712c-4e5f-a95d-1d6da5b97c56"
      },
      "execution_count": null,
      "outputs": [
        {
          "output_type": "execute_result",
          "data": {
            "text/plain": [
              "                                           LikesText  \\\n",
              "0  If you work hard, it gets recognised and you g...   \n",
              "1                                           Good pay   \n",
              "2                    The principal and work culture    \n",
              "3                            Qualification criteria    \n",
              "4                                         Everything   \n",
              "5                   everything other than the growth   \n",
              "6        Amazon is very good company and interested    \n",
              "7  Friendly work culture, pleasant work life bala...   \n",
              "8  work life balance\\r\\nGood compensation with ma...   \n",
              "9                        Honesty work and hard work    \n",
              "\n",
              "                                        DisLikesText             Created  \\\n",
              "0  Too much competition and it becomes overwhelmi... 2022-06-24 23:38:03   \n",
              "1                            Peak season is tiresome 2022-06-24 23:38:24   \n",
              "2                          No such scenario as such  2022-06-24 23:22:55   \n",
              "3  There is no chance to grow for candidates who ... 2022-06-24 19:04:27   \n",
              "4                                            Nothing 2022-06-24 18:23:06   \n",
              "5                                                    2022-04-30 17:19:23   \n",
              "6                                       No drawbacks 2022-06-03 10:27:09   \n",
              "7                                       Nothing much 2022-06-24 16:19:04   \n",
              "8                                                 NA 2022-06-24 16:00:58   \n",
              "9                                    Work from home  2022-06-24 15:16:41   \n",
              "\n",
              "   year  month Month_Name  \n",
              "0  2022      6       June  \n",
              "1  2022      6       June  \n",
              "2  2022      6       June  \n",
              "3  2022      6       June  \n",
              "4  2022      6       June  \n",
              "5  2022      4      April  \n",
              "6  2022      6       June  \n",
              "7  2022      6       June  \n",
              "8  2022      6       June  \n",
              "9  2022      6       June  "
            ],
            "text/html": [
              "\n",
              "  <div id=\"df-a896ba3b-a301-48fe-8215-6c1a72e1c9e6\">\n",
              "    <div class=\"colab-df-container\">\n",
              "      <div>\n",
              "<style scoped>\n",
              "    .dataframe tbody tr th:only-of-type {\n",
              "        vertical-align: middle;\n",
              "    }\n",
              "\n",
              "    .dataframe tbody tr th {\n",
              "        vertical-align: top;\n",
              "    }\n",
              "\n",
              "    .dataframe thead th {\n",
              "        text-align: right;\n",
              "    }\n",
              "</style>\n",
              "<table border=\"1\" class=\"dataframe\">\n",
              "  <thead>\n",
              "    <tr style=\"text-align: right;\">\n",
              "      <th></th>\n",
              "      <th>LikesText</th>\n",
              "      <th>DisLikesText</th>\n",
              "      <th>Created</th>\n",
              "      <th>year</th>\n",
              "      <th>month</th>\n",
              "      <th>Month_Name</th>\n",
              "    </tr>\n",
              "  </thead>\n",
              "  <tbody>\n",
              "    <tr>\n",
              "      <th>0</th>\n",
              "      <td>If you work hard, it gets recognised and you g...</td>\n",
              "      <td>Too much competition and it becomes overwhelmi...</td>\n",
              "      <td>2022-06-24 23:38:03</td>\n",
              "      <td>2022</td>\n",
              "      <td>6</td>\n",
              "      <td>June</td>\n",
              "    </tr>\n",
              "    <tr>\n",
              "      <th>1</th>\n",
              "      <td>Good pay</td>\n",
              "      <td>Peak season is tiresome</td>\n",
              "      <td>2022-06-24 23:38:24</td>\n",
              "      <td>2022</td>\n",
              "      <td>6</td>\n",
              "      <td>June</td>\n",
              "    </tr>\n",
              "    <tr>\n",
              "      <th>2</th>\n",
              "      <td>The principal and work culture</td>\n",
              "      <td>No such scenario as such</td>\n",
              "      <td>2022-06-24 23:22:55</td>\n",
              "      <td>2022</td>\n",
              "      <td>6</td>\n",
              "      <td>June</td>\n",
              "    </tr>\n",
              "    <tr>\n",
              "      <th>3</th>\n",
              "      <td>Qualification criteria</td>\n",
              "      <td>There is no chance to grow for candidates who ...</td>\n",
              "      <td>2022-06-24 19:04:27</td>\n",
              "      <td>2022</td>\n",
              "      <td>6</td>\n",
              "      <td>June</td>\n",
              "    </tr>\n",
              "    <tr>\n",
              "      <th>4</th>\n",
              "      <td>Everything</td>\n",
              "      <td>Nothing</td>\n",
              "      <td>2022-06-24 18:23:06</td>\n",
              "      <td>2022</td>\n",
              "      <td>6</td>\n",
              "      <td>June</td>\n",
              "    </tr>\n",
              "    <tr>\n",
              "      <th>5</th>\n",
              "      <td>everything other than the growth</td>\n",
              "      <td></td>\n",
              "      <td>2022-04-30 17:19:23</td>\n",
              "      <td>2022</td>\n",
              "      <td>4</td>\n",
              "      <td>April</td>\n",
              "    </tr>\n",
              "    <tr>\n",
              "      <th>6</th>\n",
              "      <td>Amazon is very good company and interested</td>\n",
              "      <td>No drawbacks</td>\n",
              "      <td>2022-06-03 10:27:09</td>\n",
              "      <td>2022</td>\n",
              "      <td>6</td>\n",
              "      <td>June</td>\n",
              "    </tr>\n",
              "    <tr>\n",
              "      <th>7</th>\n",
              "      <td>Friendly work culture, pleasant work life bala...</td>\n",
              "      <td>Nothing much</td>\n",
              "      <td>2022-06-24 16:19:04</td>\n",
              "      <td>2022</td>\n",
              "      <td>6</td>\n",
              "      <td>June</td>\n",
              "    </tr>\n",
              "    <tr>\n",
              "      <th>8</th>\n",
              "      <td>work life balance\\r\\nGood compensation with ma...</td>\n",
              "      <td>NA</td>\n",
              "      <td>2022-06-24 16:00:58</td>\n",
              "      <td>2022</td>\n",
              "      <td>6</td>\n",
              "      <td>June</td>\n",
              "    </tr>\n",
              "    <tr>\n",
              "      <th>9</th>\n",
              "      <td>Honesty work and hard work</td>\n",
              "      <td>Work from home</td>\n",
              "      <td>2022-06-24 15:16:41</td>\n",
              "      <td>2022</td>\n",
              "      <td>6</td>\n",
              "      <td>June</td>\n",
              "    </tr>\n",
              "  </tbody>\n",
              "</table>\n",
              "</div>\n",
              "      <button class=\"colab-df-convert\" onclick=\"convertToInteractive('df-a896ba3b-a301-48fe-8215-6c1a72e1c9e6')\"\n",
              "              title=\"Convert this dataframe to an interactive table.\"\n",
              "              style=\"display:none;\">\n",
              "        \n",
              "  <svg xmlns=\"http://www.w3.org/2000/svg\" height=\"24px\"viewBox=\"0 0 24 24\"\n",
              "       width=\"24px\">\n",
              "    <path d=\"M0 0h24v24H0V0z\" fill=\"none\"/>\n",
              "    <path d=\"M18.56 5.44l.94 2.06.94-2.06 2.06-.94-2.06-.94-.94-2.06-.94 2.06-2.06.94zm-11 1L8.5 8.5l.94-2.06 2.06-.94-2.06-.94L8.5 2.5l-.94 2.06-2.06.94zm10 10l.94 2.06.94-2.06 2.06-.94-2.06-.94-.94-2.06-.94 2.06-2.06.94z\"/><path d=\"M17.41 7.96l-1.37-1.37c-.4-.4-.92-.59-1.43-.59-.52 0-1.04.2-1.43.59L10.3 9.45l-7.72 7.72c-.78.78-.78 2.05 0 2.83L4 21.41c.39.39.9.59 1.41.59.51 0 1.02-.2 1.41-.59l7.78-7.78 2.81-2.81c.8-.78.8-2.07 0-2.86zM5.41 20L4 18.59l7.72-7.72 1.47 1.35L5.41 20z\"/>\n",
              "  </svg>\n",
              "      </button>\n",
              "      \n",
              "  <style>\n",
              "    .colab-df-container {\n",
              "      display:flex;\n",
              "      flex-wrap:wrap;\n",
              "      gap: 12px;\n",
              "    }\n",
              "\n",
              "    .colab-df-convert {\n",
              "      background-color: #E8F0FE;\n",
              "      border: none;\n",
              "      border-radius: 50%;\n",
              "      cursor: pointer;\n",
              "      display: none;\n",
              "      fill: #1967D2;\n",
              "      height: 32px;\n",
              "      padding: 0 0 0 0;\n",
              "      width: 32px;\n",
              "    }\n",
              "\n",
              "    .colab-df-convert:hover {\n",
              "      background-color: #E2EBFA;\n",
              "      box-shadow: 0px 1px 2px rgba(60, 64, 67, 0.3), 0px 1px 3px 1px rgba(60, 64, 67, 0.15);\n",
              "      fill: #174EA6;\n",
              "    }\n",
              "\n",
              "    [theme=dark] .colab-df-convert {\n",
              "      background-color: #3B4455;\n",
              "      fill: #D2E3FC;\n",
              "    }\n",
              "\n",
              "    [theme=dark] .colab-df-convert:hover {\n",
              "      background-color: #434B5C;\n",
              "      box-shadow: 0px 1px 3px 1px rgba(0, 0, 0, 0.15);\n",
              "      filter: drop-shadow(0px 1px 2px rgba(0, 0, 0, 0.3));\n",
              "      fill: #FFFFFF;\n",
              "    }\n",
              "  </style>\n",
              "\n",
              "      <script>\n",
              "        const buttonEl =\n",
              "          document.querySelector('#df-a896ba3b-a301-48fe-8215-6c1a72e1c9e6 button.colab-df-convert');\n",
              "        buttonEl.style.display =\n",
              "          google.colab.kernel.accessAllowed ? 'block' : 'none';\n",
              "\n",
              "        async function convertToInteractive(key) {\n",
              "          const element = document.querySelector('#df-a896ba3b-a301-48fe-8215-6c1a72e1c9e6');\n",
              "          const dataTable =\n",
              "            await google.colab.kernel.invokeFunction('convertToInteractive',\n",
              "                                                     [key], {});\n",
              "          if (!dataTable) return;\n",
              "\n",
              "          const docLinkHtml = 'Like what you see? Visit the ' +\n",
              "            '<a target=\"_blank\" href=https://colab.research.google.com/notebooks/data_table.ipynb>data table notebook</a>'\n",
              "            + ' to learn more about interactive tables.';\n",
              "          element.innerHTML = '';\n",
              "          dataTable['output_type'] = 'display_data';\n",
              "          await google.colab.output.renderOutput(dataTable, element);\n",
              "          const docLink = document.createElement('div');\n",
              "          docLink.innerHTML = docLinkHtml;\n",
              "          element.appendChild(docLink);\n",
              "        }\n",
              "      </script>\n",
              "    </div>\n",
              "  </div>\n",
              "  "
            ]
          },
          "metadata": {},
          "execution_count": 18
        }
      ]
    },
    {
      "cell_type": "code",
      "source": [
        "# considering the 2022_June month data so filtering using yesr and month name features\n",
        "\n",
        "result_2022_june = df2[(df2.year == 2022) & (df2.Month_Name == 'June')]"
      ],
      "metadata": {
        "id": "nbFu6ZuXCHpC"
      },
      "execution_count": null,
      "outputs": []
    },
    {
      "cell_type": "code",
      "source": [
        "result_2022_june.shape"
      ],
      "metadata": {
        "colab": {
          "base_uri": "https://localhost:8080/"
        },
        "id": "MS9iCICSDcQ8",
        "outputId": "62d393c9-9bb3-4686-a7ba-58a964c08463"
      },
      "execution_count": null,
      "outputs": [
        {
          "output_type": "execute_result",
          "data": {
            "text/plain": [
              "(9, 6)"
            ]
          },
          "metadata": {},
          "execution_count": 20
        }
      ]
    },
    {
      "cell_type": "code",
      "source": [
        "result_2022_june.head()"
      ],
      "metadata": {
        "colab": {
          "base_uri": "https://localhost:8080/",
          "height": 206
        },
        "id": "rfy9HgAUDkkh",
        "outputId": "54b9c95f-3e2e-4763-c8ec-c098701942a0"
      },
      "execution_count": null,
      "outputs": [
        {
          "output_type": "execute_result",
          "data": {
            "text/plain": [
              "                                           LikesText  \\\n",
              "0  If you work hard, it gets recognised and you g...   \n",
              "1                                           Good pay   \n",
              "2                    The principal and work culture    \n",
              "3                            Qualification criteria    \n",
              "4                                         Everything   \n",
              "\n",
              "                                        DisLikesText             Created  \\\n",
              "0  Too much competition and it becomes overwhelmi... 2022-06-24 23:38:03   \n",
              "1                            Peak season is tiresome 2022-06-24 23:38:24   \n",
              "2                          No such scenario as such  2022-06-24 23:22:55   \n",
              "3  There is no chance to grow for candidates who ... 2022-06-24 19:04:27   \n",
              "4                                            Nothing 2022-06-24 18:23:06   \n",
              "\n",
              "   year  month Month_Name  \n",
              "0  2022      6       June  \n",
              "1  2022      6       June  \n",
              "2  2022      6       June  \n",
              "3  2022      6       June  \n",
              "4  2022      6       June  "
            ],
            "text/html": [
              "\n",
              "  <div id=\"df-ed4d1fbd-31fb-4737-b2a6-41e0723c373b\">\n",
              "    <div class=\"colab-df-container\">\n",
              "      <div>\n",
              "<style scoped>\n",
              "    .dataframe tbody tr th:only-of-type {\n",
              "        vertical-align: middle;\n",
              "    }\n",
              "\n",
              "    .dataframe tbody tr th {\n",
              "        vertical-align: top;\n",
              "    }\n",
              "\n",
              "    .dataframe thead th {\n",
              "        text-align: right;\n",
              "    }\n",
              "</style>\n",
              "<table border=\"1\" class=\"dataframe\">\n",
              "  <thead>\n",
              "    <tr style=\"text-align: right;\">\n",
              "      <th></th>\n",
              "      <th>LikesText</th>\n",
              "      <th>DisLikesText</th>\n",
              "      <th>Created</th>\n",
              "      <th>year</th>\n",
              "      <th>month</th>\n",
              "      <th>Month_Name</th>\n",
              "    </tr>\n",
              "  </thead>\n",
              "  <tbody>\n",
              "    <tr>\n",
              "      <th>0</th>\n",
              "      <td>If you work hard, it gets recognised and you g...</td>\n",
              "      <td>Too much competition and it becomes overwhelmi...</td>\n",
              "      <td>2022-06-24 23:38:03</td>\n",
              "      <td>2022</td>\n",
              "      <td>6</td>\n",
              "      <td>June</td>\n",
              "    </tr>\n",
              "    <tr>\n",
              "      <th>1</th>\n",
              "      <td>Good pay</td>\n",
              "      <td>Peak season is tiresome</td>\n",
              "      <td>2022-06-24 23:38:24</td>\n",
              "      <td>2022</td>\n",
              "      <td>6</td>\n",
              "      <td>June</td>\n",
              "    </tr>\n",
              "    <tr>\n",
              "      <th>2</th>\n",
              "      <td>The principal and work culture</td>\n",
              "      <td>No such scenario as such</td>\n",
              "      <td>2022-06-24 23:22:55</td>\n",
              "      <td>2022</td>\n",
              "      <td>6</td>\n",
              "      <td>June</td>\n",
              "    </tr>\n",
              "    <tr>\n",
              "      <th>3</th>\n",
              "      <td>Qualification criteria</td>\n",
              "      <td>There is no chance to grow for candidates who ...</td>\n",
              "      <td>2022-06-24 19:04:27</td>\n",
              "      <td>2022</td>\n",
              "      <td>6</td>\n",
              "      <td>June</td>\n",
              "    </tr>\n",
              "    <tr>\n",
              "      <th>4</th>\n",
              "      <td>Everything</td>\n",
              "      <td>Nothing</td>\n",
              "      <td>2022-06-24 18:23:06</td>\n",
              "      <td>2022</td>\n",
              "      <td>6</td>\n",
              "      <td>June</td>\n",
              "    </tr>\n",
              "  </tbody>\n",
              "</table>\n",
              "</div>\n",
              "      <button class=\"colab-df-convert\" onclick=\"convertToInteractive('df-ed4d1fbd-31fb-4737-b2a6-41e0723c373b')\"\n",
              "              title=\"Convert this dataframe to an interactive table.\"\n",
              "              style=\"display:none;\">\n",
              "        \n",
              "  <svg xmlns=\"http://www.w3.org/2000/svg\" height=\"24px\"viewBox=\"0 0 24 24\"\n",
              "       width=\"24px\">\n",
              "    <path d=\"M0 0h24v24H0V0z\" fill=\"none\"/>\n",
              "    <path d=\"M18.56 5.44l.94 2.06.94-2.06 2.06-.94-2.06-.94-.94-2.06-.94 2.06-2.06.94zm-11 1L8.5 8.5l.94-2.06 2.06-.94-2.06-.94L8.5 2.5l-.94 2.06-2.06.94zm10 10l.94 2.06.94-2.06 2.06-.94-2.06-.94-.94-2.06-.94 2.06-2.06.94z\"/><path d=\"M17.41 7.96l-1.37-1.37c-.4-.4-.92-.59-1.43-.59-.52 0-1.04.2-1.43.59L10.3 9.45l-7.72 7.72c-.78.78-.78 2.05 0 2.83L4 21.41c.39.39.9.59 1.41.59.51 0 1.02-.2 1.41-.59l7.78-7.78 2.81-2.81c.8-.78.8-2.07 0-2.86zM5.41 20L4 18.59l7.72-7.72 1.47 1.35L5.41 20z\"/>\n",
              "  </svg>\n",
              "      </button>\n",
              "      \n",
              "  <style>\n",
              "    .colab-df-container {\n",
              "      display:flex;\n",
              "      flex-wrap:wrap;\n",
              "      gap: 12px;\n",
              "    }\n",
              "\n",
              "    .colab-df-convert {\n",
              "      background-color: #E8F0FE;\n",
              "      border: none;\n",
              "      border-radius: 50%;\n",
              "      cursor: pointer;\n",
              "      display: none;\n",
              "      fill: #1967D2;\n",
              "      height: 32px;\n",
              "      padding: 0 0 0 0;\n",
              "      width: 32px;\n",
              "    }\n",
              "\n",
              "    .colab-df-convert:hover {\n",
              "      background-color: #E2EBFA;\n",
              "      box-shadow: 0px 1px 2px rgba(60, 64, 67, 0.3), 0px 1px 3px 1px rgba(60, 64, 67, 0.15);\n",
              "      fill: #174EA6;\n",
              "    }\n",
              "\n",
              "    [theme=dark] .colab-df-convert {\n",
              "      background-color: #3B4455;\n",
              "      fill: #D2E3FC;\n",
              "    }\n",
              "\n",
              "    [theme=dark] .colab-df-convert:hover {\n",
              "      background-color: #434B5C;\n",
              "      box-shadow: 0px 1px 3px 1px rgba(0, 0, 0, 0.15);\n",
              "      filter: drop-shadow(0px 1px 2px rgba(0, 0, 0, 0.3));\n",
              "      fill: #FFFFFF;\n",
              "    }\n",
              "  </style>\n",
              "\n",
              "      <script>\n",
              "        const buttonEl =\n",
              "          document.querySelector('#df-ed4d1fbd-31fb-4737-b2a6-41e0723c373b button.colab-df-convert');\n",
              "        buttonEl.style.display =\n",
              "          google.colab.kernel.accessAllowed ? 'block' : 'none';\n",
              "\n",
              "        async function convertToInteractive(key) {\n",
              "          const element = document.querySelector('#df-ed4d1fbd-31fb-4737-b2a6-41e0723c373b');\n",
              "          const dataTable =\n",
              "            await google.colab.kernel.invokeFunction('convertToInteractive',\n",
              "                                                     [key], {});\n",
              "          if (!dataTable) return;\n",
              "\n",
              "          const docLinkHtml = 'Like what you see? Visit the ' +\n",
              "            '<a target=\"_blank\" href=https://colab.research.google.com/notebooks/data_table.ipynb>data table notebook</a>'\n",
              "            + ' to learn more about interactive tables.';\n",
              "          element.innerHTML = '';\n",
              "          dataTable['output_type'] = 'display_data';\n",
              "          await google.colab.output.renderOutput(dataTable, element);\n",
              "          const docLink = document.createElement('div');\n",
              "          docLink.innerHTML = docLinkHtml;\n",
              "          element.appendChild(docLink);\n",
              "        }\n",
              "      </script>\n",
              "    </div>\n",
              "  </div>\n",
              "  "
            ]
          },
          "metadata": {},
          "execution_count": 21
        }
      ]
    },
    {
      "cell_type": "code",
      "source": [
        "positive_2022_june =result_2022_june['LikesText']"
      ],
      "metadata": {
        "id": "k0vJAEvkD2wH"
      },
      "execution_count": null,
      "outputs": []
    },
    {
      "cell_type": "code",
      "source": [
        "Negitive_2022_june =result_2022_june['DisLikesText']\n"
      ],
      "metadata": {
        "id": "uQiL1A97EFwj"
      },
      "execution_count": null,
      "outputs": []
    },
    {
      "cell_type": "code",
      "source": [
        "import nltk\n",
        "nltk.download('punkt')\n",
        "nltk.download('wordnet')\n",
        "from nltk.stem import WordNetLemmatizer\n",
        "lemmatizer = WordNetLemmatizer()\n",
        "from nltk.corpus import stopwords\n",
        "from wordcloud import WordCloud,STOPWORDS\n",
        "import matplotlib.pyplot as plt\n",
        "%matplotlib inline"
      ],
      "metadata": {
        "colab": {
          "base_uri": "https://localhost:8080/"
        },
        "id": "tVlxiJxXEcLX",
        "outputId": "f90c09ac-6934-4896-9b41-6392d68c6512"
      },
      "execution_count": null,
      "outputs": [
        {
          "output_type": "stream",
          "name": "stderr",
          "text": [
            "[nltk_data] Downloading package punkt to /root/nltk_data...\n",
            "[nltk_data]   Package punkt is already up-to-date!\n",
            "[nltk_data] Downloading package wordnet to /root/nltk_data...\n",
            "[nltk_data]   Package wordnet is already up-to-date!\n"
          ]
        }
      ]
    },
    {
      "cell_type": "code",
      "source": [
        "def wordcloud_draw(data, color = 'black'):\n",
        "    words = ' '.join(data)\n",
        "    cleaned_word = \" \".join([word for word in words.split()\n",
        "                            if 'http' not in word\n",
        "                                and not word.startswith('\\t')\n",
        "                                and not word.startswith('#')\n",
        "                                and word != 'RT'\n",
        "                            ])\n",
        "    wordcloud = WordCloud(stopwords=STOPWORDS,\n",
        "                      background_color=color,\n",
        "                      width=2500,\n",
        "                      height=2000\n",
        "                     ).generate(cleaned_word)\n",
        "    plt.figure(1,figsize=(6, 4))\n",
        "    plt.imshow(wordcloud)\n",
        "    plt.axis('off')\n",
        "    plt.show()\n",
        "    \n",
        "print(\"Positive words\")\n",
        "wordcloud_draw(positive_2022_june,'white')"
      ],
      "metadata": {
        "colab": {
          "base_uri": "https://localhost:8080/",
          "height": 266
        },
        "id": "JMKscJphErKV",
        "outputId": "759c82d8-0307-443d-fd60-89248fdb4a22"
      },
      "execution_count": null,
      "outputs": [
        {
          "output_type": "stream",
          "name": "stdout",
          "text": [
            "Positive words\n"
          ]
        },
        {
          "output_type": "display_data",
          "data": {
            "text/plain": [
              "<Figure size 432x288 with 1 Axes>"
            ],
            "image/png": "[encoded data removed]"
          },
          "metadata": {
            "needs_background": "light"
          }
        }
      ]
    },
    {
      "cell_type": "code",
      "source": [
        "# wordcloud for Negitive reviews\n",
        "print(\"Negitive words\")\n",
        "wordcloud_draw(Negitive_2022_june,'Black')"
      ],
      "metadata": {
        "colab": {
          "base_uri": "https://localhost:8080/",
          "height": 266
        },
        "id": "5_ob5GsfFvEk",
        "outputId": "6be76a35-2c3d-4d1c-e7a0-c2a9b04fc75a"
      },
      "execution_count": null,
      "outputs": [
        {
          "output_type": "stream",
          "name": "stdout",
          "text": [
            "Negitive words\n"
          ]
        },
        {
          "output_type": "display_data",
          "data": {
            "text/plain": [
              "<Figure size 432x288 with 1 Axes>"
            ],
            "image/png": "[encoded data removed]"
          },
          "metadata": {
            "needs_background": "light"
          }
        }
      ]
    },
    {
      "cell_type": "code",
      "source": [
        ""
      ],
      "metadata": {
        "id": "tnoM0YmTGDkv"
      },
      "execution_count": null,
      "outputs": []
    }
  ]
}